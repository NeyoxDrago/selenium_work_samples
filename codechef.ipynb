{
 "cells": [
  {
   "cell_type": "code",
   "execution_count": 53,
   "metadata": {},
   "outputs": [],
   "source": [
    "from selenium import webdriver\n",
    "from getpass import getpass\n",
    "from selenium.webdriver.common import keys, action_chains\n",
    "from selenium.webdriver.common.by import By\n",
    "from selenium.webdriver.support.ui import WebDriverWait\n",
    "from selenium.webdriver.support import expected_conditions as EC\n",
    "\n",
    "browser = webdriver.Chrome(executable_path=\"../../chromedriver.exe\")\n",
    "browser.get(\"https://codechef.com\")\n",
    "username_element = browser.find_element_by_id(\"edit-name\")\n",
    "username = input(\"Enter Username :: \")\n",
    "username_element.send_keys(\"prashant1956\")\n",
    "password_element = browser.find_element_by_id(\"edit-pass\")\n",
    "password = getpass(\"Enter password: \")\n",
    "password_element.send_keys(password)\n",
    "\n",
    "browser.find_element_by_id(\"edit-submit\").click()\n",
    "\n",
    "browser.get(\"https://www.codechef.com/submit/TEST\")\n",
    "mode = browser.find_element_by_xpath('//*[@id=\"edit-submit\"]')\n",
    "if mode.get_attribute(\"value\") == 'Switch to Non-IDE mode':\n",
    "    mode.click()\n",
    "\n",
    "with open(\"../code.py\",'r') as f:\n",
    "    code = f.read()"
   ]
  },
  {
   "cell_type": "code",
   "execution_count": 61,
   "metadata": {},
   "outputs": [],
   "source": [
    "toggle = browser.find_element_by_id('edit_area_toggle_checkbox_edit-program')\n",
    "temp = browser.find_element_by_xpath('//*[@id=\"cc-footer-div\"]/div[2]/div[1]/ul/li[1]/a')\n",
    "\n",
    "action = action_chains.ActionChains(browser)\n",
    "action.move_to_element(temp).perform()\n",
    "toggle.click()"
   ]
  },
  {
   "cell_type": "code",
   "execution_count": 125,
   "metadata": {},
   "outputs": [],
   "source": [
    "area = browser.find_element_by_xpath('//*[@id=\"edit-program\"]')\n",
    "area.click()\n",
    "\n",
    "area.send_keys(keys.Keys.CONTROL + \"a\")\n",
    "area.send_keys(keys.Keys.DELETE)\n",
    "area.send_keys(code)"
   ]
  },
  {
   "cell_type": "code",
   "execution_count": 127,
   "metadata": {},
   "outputs": [],
   "source": [
    "browser.find_element_by_xpath('//*[@id=\"edit-language\"]/option[39]').click()\n",
    "submit = browser.find_element_by_xpath('//*[@id=\"edit-submit-1\"]')\n",
    "submit.click()"
   ]
  }
 ],
 "metadata": {
  "kernelspec": {
   "display_name": "Python 3",
   "language": "python",
   "name": "python3"
  },
  "language_info": {
   "codemirror_mode": {
    "name": "ipython",
    "version": 3
   },
   "file_extension": ".py",
   "mimetype": "text/x-python",
   "name": "python",
   "nbconvert_exporter": "python",
   "pygments_lexer": "ipython3",
   "version": "3.6.8"
  }
 },
 "nbformat": 4,
 "nbformat_minor": 2
}
